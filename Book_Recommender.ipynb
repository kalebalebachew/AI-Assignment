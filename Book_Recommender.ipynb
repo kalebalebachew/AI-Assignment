{
  "cells": [
    {
      "cell_type": "markdown",
      "metadata": {
        "id": "BPAuf0ejC-NA"
      },
      "source": [
        "# Intro\n",
        "\n",
        "In this notebook we will implement a recommendation algorithm for books.\n",
        "\n",
        "As method, we will use \"colaborative filtering\", in which we find common interests among users and recommend books based on said similarities.\n",
        "\n",
        "# Group Members:\n",
        "- Kaleb Alebachew 1539/13\n",
        "- Natnael Malike  2166/13\n",
        "- Kalkidan Tadesse  1559/13\n",
        "- Tewodros Million  2675/13\n",
        "- Mikiyas Mesfin    4731/13"
      ]
    },
    {
      "cell_type": "code",
      "execution_count": 1,
      "metadata": {
        "id": "ItpPbe2XCzMP"
      },
      "outputs": [],
      "source": [
        "import numpy as np\n",
        "import pandas as pd\n",
        "\n"
      ]
    },
    {
      "cell_type": "code",
      "execution_count": 76,
      "metadata": {
        "id": "gKTMGXdnGQy3"
      },
      "outputs": [],
      "source": [
        "books = pd.read_csv(\"/content/BX_Books.csv\", encoding='latin-1', error_bad_lines=False, sep=';')\n",
        "ratings = pd.read_csv(\"/content/BX-Book-Ratings.csv\", encoding='latin-1', error_bad_lines=False, sep=';')\n",
        "\n",
        "books.columns = ['ISBN', 'bookTitle', 'bookAuthor', 'yearOfPublication', 'publisher', 'imageUrlS', 'imageUrlM', 'imageUrlL']\n",
        "\n",
        "ratings.columns = ['userID', 'ISBN', 'bookRating']"
      ]
    },
    {
      "cell_type": "code",
      "execution_count": 77,
      "metadata": {
        "id": "bNAJqiGEKUMt"
      },
      "outputs": [],
      "source": [
        "ratings = ratings.set_index(\"ISBN\")\n",
        "\n",
        "books = books.set_index(\"ISBN\")"
      ]
    },
    {
      "cell_type": "code",
      "execution_count": 78,
      "metadata": {
        "colab": {
          "base_uri": "https://localhost:8080/",
          "height": 400
        },
        "id": "Lh6McU6ZGbVY",
        "outputId": "50c9ceda-c424-4d37-e7db-42beafcc71cf"
      },
      "outputs": [
        {
          "data": {
            "text/html": [
              "<div>\n",
              "<style scoped>\n",
              "    .dataframe tbody tr th:only-of-type {\n",
              "        vertical-align: middle;\n",
              "    }\n",
              "\n",
              "    .dataframe tbody tr th {\n",
              "        vertical-align: top;\n",
              "    }\n",
              "\n",
              "    .dataframe thead th {\n",
              "        text-align: right;\n",
              "    }\n",
              "</style>\n",
              "<table border=\"1\" class=\"dataframe\">\n",
              "  <thead>\n",
              "    <tr style=\"text-align: right;\">\n",
              "      <th></th>\n",
              "      <th>bookTitle</th>\n",
              "      <th>bookAuthor</th>\n",
              "      <th>yearOfPublication</th>\n",
              "      <th>publisher</th>\n",
              "      <th>imageUrlS</th>\n",
              "      <th>imageUrlM</th>\n",
              "      <th>imageUrlL</th>\n",
              "    </tr>\n",
              "    <tr>\n",
              "      <th>ISBN</th>\n",
              "      <th></th>\n",
              "      <th></th>\n",
              "      <th></th>\n",
              "      <th></th>\n",
              "      <th></th>\n",
              "      <th></th>\n",
              "      <th></th>\n",
              "    </tr>\n",
              "  </thead>\n",
              "  <tbody>\n",
              "    <tr>\n",
              "      <th>0195153448</th>\n",
              "      <td>Classical Mythology</td>\n",
              "      <td>Mark P. O. Morford</td>\n",
              "      <td>2002</td>\n",
              "      <td>Oxford University Press</td>\n",
              "      <td>http://images.amazon.com/images/P/0195153448.0...</td>\n",
              "      <td>http://images.amazon.com/images/P/0195153448.0...</td>\n",
              "      <td>http://images.amazon.com/images/P/0195153448.0...</td>\n",
              "    </tr>\n",
              "    <tr>\n",
              "      <th>0002005018</th>\n",
              "      <td>Clara Callan</td>\n",
              "      <td>Richard Bruce Wright</td>\n",
              "      <td>2001</td>\n",
              "      <td>HarperFlamingo Canada</td>\n",
              "      <td>http://images.amazon.com/images/P/0002005018.0...</td>\n",
              "      <td>http://images.amazon.com/images/P/0002005018.0...</td>\n",
              "      <td>http://images.amazon.com/images/P/0002005018.0...</td>\n",
              "    </tr>\n",
              "    <tr>\n",
              "      <th>0060973129</th>\n",
              "      <td>Decision in Normandy</td>\n",
              "      <td>Carlo D'Este</td>\n",
              "      <td>1991</td>\n",
              "      <td>HarperPerennial</td>\n",
              "      <td>http://images.amazon.com/images/P/0060973129.0...</td>\n",
              "      <td>http://images.amazon.com/images/P/0060973129.0...</td>\n",
              "      <td>http://images.amazon.com/images/P/0060973129.0...</td>\n",
              "    </tr>\n",
              "    <tr>\n",
              "      <th>0374157065</th>\n",
              "      <td>Flu: The Story of the Great Influenza Pandemic...</td>\n",
              "      <td>Gina Bari Kolata</td>\n",
              "      <td>1999</td>\n",
              "      <td>Farrar Straus Giroux</td>\n",
              "      <td>http://images.amazon.com/images/P/0374157065.0...</td>\n",
              "      <td>http://images.amazon.com/images/P/0374157065.0...</td>\n",
              "      <td>http://images.amazon.com/images/P/0374157065.0...</td>\n",
              "    </tr>\n",
              "    <tr>\n",
              "      <th>0393045218</th>\n",
              "      <td>The Mummies of Urumchi</td>\n",
              "      <td>E. J. W. Barber</td>\n",
              "      <td>1999</td>\n",
              "      <td>W. W. Norton &amp; Company</td>\n",
              "      <td>http://images.amazon.com/images/P/0393045218.0...</td>\n",
              "      <td>http://images.amazon.com/images/P/0393045218.0...</td>\n",
              "      <td>http://images.amazon.com/images/P/0393045218.0...</td>\n",
              "    </tr>\n",
              "  </tbody>\n",
              "</table>\n",
              "</div>"
            ],
            "text/plain": [
              "                                                    bookTitle  ...                                          imageUrlL\n",
              "ISBN                                                           ...                                                   \n",
              "0195153448                                Classical Mythology  ...  http://images.amazon.com/images/P/0195153448.0...\n",
              "0002005018                                       Clara Callan  ...  http://images.amazon.com/images/P/0002005018.0...\n",
              "0060973129                               Decision in Normandy  ...  http://images.amazon.com/images/P/0060973129.0...\n",
              "0374157065  Flu: The Story of the Great Influenza Pandemic...  ...  http://images.amazon.com/images/P/0374157065.0...\n",
              "0393045218                             The Mummies of Urumchi  ...  http://images.amazon.com/images/P/0393045218.0...\n",
              "\n",
              "[5 rows x 7 columns]"
            ]
          },
          "execution_count": 78,
          "metadata": {
            "tags": []
          },
          "output_type": "execute_result"
        }
      ],
      "source": [
        "books.head()"
      ]
    },
    {
      "cell_type": "code",
      "execution_count": 79,
      "metadata": {
        "colab": {
          "base_uri": "https://localhost:8080/",
          "height": 252
        },
        "id": "LfIMwSlJHY0x",
        "outputId": "9726ec79-4dd3-48cf-d433-ed6881948f5f"
      },
      "outputs": [
        {
          "data": {
            "text/html": [
              "<div>\n",
              "<style scoped>\n",
              "    .dataframe tbody tr th:only-of-type {\n",
              "        vertical-align: middle;\n",
              "    }\n",
              "\n",
              "    .dataframe tbody tr th {\n",
              "        vertical-align: top;\n",
              "    }\n",
              "\n",
              "    .dataframe thead th {\n",
              "        text-align: right;\n",
              "    }\n",
              "</style>\n",
              "<table border=\"1\" class=\"dataframe\">\n",
              "  <thead>\n",
              "    <tr style=\"text-align: right;\">\n",
              "      <th></th>\n",
              "      <th>userID</th>\n",
              "      <th>bookRating</th>\n",
              "    </tr>\n",
              "    <tr>\n",
              "      <th>ISBN</th>\n",
              "      <th></th>\n",
              "      <th></th>\n",
              "    </tr>\n",
              "  </thead>\n",
              "  <tbody>\n",
              "    <tr>\n",
              "      <th>1563526298</th>\n",
              "      <td>276704</td>\n",
              "      <td>9</td>\n",
              "    </tr>\n",
              "    <tr>\n",
              "      <th>0679447156</th>\n",
              "      <td>276706</td>\n",
              "      <td>0</td>\n",
              "    </tr>\n",
              "    <tr>\n",
              "      <th>0515107662</th>\n",
              "      <td>276709</td>\n",
              "      <td>10</td>\n",
              "    </tr>\n",
              "    <tr>\n",
              "      <th>0590442449</th>\n",
              "      <td>276721</td>\n",
              "      <td>10</td>\n",
              "    </tr>\n",
              "    <tr>\n",
              "      <th>05162443314</th>\n",
              "      <td>276723</td>\n",
              "      <td>8</td>\n",
              "    </tr>\n",
              "  </tbody>\n",
              "</table>\n",
              "</div>"
            ],
            "text/plain": [
              "             userID  bookRating\n",
              "ISBN                           \n",
              "1563526298   276704           9\n",
              "0679447156   276706           0\n",
              "0515107662   276709          10\n",
              "0590442449   276721          10\n",
              "05162443314  276723           8"
            ]
          },
          "execution_count": 79,
          "metadata": {
            "tags": []
          },
          "output_type": "execute_result"
        }
      ],
      "source": [
        "ratings.tail()"
      ]
    },
    {
      "cell_type": "markdown",
      "metadata": {
        "id": "5VvZjp5nIrB1"
      },
      "source": [
        "---\n",
        "\n",
        "# Distance between users\n",
        "\n",
        "First we must implement a distance function in order to understand how close the interests of two users are.\n",
        "\n",
        "For this, we will use NumPy's `linalg.norm`"
      ]
    },
    {
      "cell_type": "code",
      "execution_count": 9,
      "metadata": {
        "id": "ElC30L4XI8sE"
      },
      "outputs": [],
      "source": [
        "def array_distance(a,b):\n",
        "  return np.linalg.norm(a - b)"
      ]
    },
    {
      "cell_type": "code",
      "execution_count": 14,
      "metadata": {
        "colab": {
          "base_uri": "https://localhost:8080/"
        },
        "id": "WtSFzzQtJEi5",
        "outputId": "da2bdabb-4647-41dd-f892-26458e131dfc"
      },
      "outputs": [
        {
          "data": {
            "text/plain": [
              "2.449489742783178"
            ]
          },
          "execution_count": 14,
          "metadata": {
            "tags": []
          },
          "output_type": "execute_result"
        }
      ],
      "source": [
        "# Testing function\n",
        "\n",
        "a=np.array([3, 4, 5, 3, 2, 4])\n",
        "b = np.array([4, 4, 4, 3, 2, 2])\n",
        "\n",
        "array_distance(a, b)"
      ]
    },
    {
      "cell_type": "markdown",
      "metadata": {
        "id": "vTpgYA04JnqK"
      },
      "source": [
        "The above output represents the distance between the points in both arrays. \n",
        "\n",
        "This is the core idea of the distance between users ratings on movies."
      ]
    },
    {
      "cell_type": "markdown",
      "metadata": {
        "id": "hRd5HAU2KAyn"
      },
      "source": [
        "**That being said, let's grab the users ratings**"
      ]
    },
    {
      "cell_type": "code",
      "execution_count": 92,
      "metadata": {
        "id": "lKVjfQpuJMYo"
      },
      "outputs": [],
      "source": [
        "def ratings_from_user(userID):\n",
        "  ratings_from_user = ratings.query(\"userID==%d\" % userID)\n",
        "  ratings_from_user = ratings_from_user[[\"bookRating\"]]\n",
        "  return ratings_from_user"
      ]
    },
    {
      "cell_type": "code",
      "execution_count": 93,
      "metadata": {
        "colab": {
          "base_uri": "https://localhost:8080/",
          "height": 618
        },
        "id": "DmdGsawoKuEx",
        "outputId": "066d463c-5b3a-4f27-8522-6d465fe23496"
      },
      "outputs": [
        {
          "data": {
            "text/html": [
              "<div>\n",
              "<style scoped>\n",
              "    .dataframe tbody tr th:only-of-type {\n",
              "        vertical-align: middle;\n",
              "    }\n",
              "\n",
              "    .dataframe tbody tr th {\n",
              "        vertical-align: top;\n",
              "    }\n",
              "\n",
              "    .dataframe thead th {\n",
              "        text-align: right;\n",
              "    }\n",
              "</style>\n",
              "<table border=\"1\" class=\"dataframe\">\n",
              "  <thead>\n",
              "    <tr style=\"text-align: right;\">\n",
              "      <th></th>\n",
              "      <th>bookRating</th>\n",
              "    </tr>\n",
              "    <tr>\n",
              "      <th>ISBN</th>\n",
              "      <th></th>\n",
              "    </tr>\n",
              "  </thead>\n",
              "  <tbody>\n",
              "    <tr>\n",
              "      <th>0152022597</th>\n",
              "      <td>0</td>\n",
              "    </tr>\n",
              "    <tr>\n",
              "      <th>0312873115</th>\n",
              "      <td>0</td>\n",
              "    </tr>\n",
              "    <tr>\n",
              "      <th>0345386108</th>\n",
              "      <td>6</td>\n",
              "    </tr>\n",
              "    <tr>\n",
              "      <th>0380796155</th>\n",
              "      <td>5</td>\n",
              "    </tr>\n",
              "    <tr>\n",
              "      <th>0395404258</th>\n",
              "      <td>0</td>\n",
              "    </tr>\n",
              "    <tr>\n",
              "      <th>0425060772</th>\n",
              "      <td>0</td>\n",
              "    </tr>\n",
              "    <tr>\n",
              "      <th>0440206529</th>\n",
              "      <td>0</td>\n",
              "    </tr>\n",
              "    <tr>\n",
              "      <th>0441007813</th>\n",
              "      <td>0</td>\n",
              "    </tr>\n",
              "    <tr>\n",
              "      <th>0446353957</th>\n",
              "      <td>0</td>\n",
              "    </tr>\n",
              "    <tr>\n",
              "      <th>0446605409</th>\n",
              "      <td>0</td>\n",
              "    </tr>\n",
              "    <tr>\n",
              "      <th>059032120X</th>\n",
              "      <td>0</td>\n",
              "    </tr>\n",
              "    <tr>\n",
              "      <th>0679752714</th>\n",
              "      <td>0</td>\n",
              "    </tr>\n",
              "    <tr>\n",
              "      <th>0743211383</th>\n",
              "      <td>7</td>\n",
              "    </tr>\n",
              "    <tr>\n",
              "      <th>080410526X</th>\n",
              "      <td>0</td>\n",
              "    </tr>\n",
              "    <tr>\n",
              "      <th>0806917695</th>\n",
              "      <td>5</td>\n",
              "    </tr>\n",
              "    <tr>\n",
              "      <th>0876044011</th>\n",
              "      <td>0</td>\n",
              "    </tr>\n",
              "    <tr>\n",
              "      <th>1563526298</th>\n",
              "      <td>9</td>\n",
              "    </tr>\n",
              "  </tbody>\n",
              "</table>\n",
              "</div>"
            ],
            "text/plain": [
              "            bookRating\n",
              "ISBN                  \n",
              "0152022597           0\n",
              "0312873115           0\n",
              "0345386108           6\n",
              "0380796155           5\n",
              "0395404258           0\n",
              "0425060772           0\n",
              "0440206529           0\n",
              "0441007813           0\n",
              "0446353957           0\n",
              "0446605409           0\n",
              "059032120X           0\n",
              "0679752714           0\n",
              "0743211383           7\n",
              "080410526X           0\n",
              "0806917695           5\n",
              "0876044011           0\n",
              "1563526298           9"
            ]
          },
          "execution_count": 93,
          "metadata": {
            "tags": []
          },
          "output_type": "execute_result"
        }
      ],
      "source": [
        "#Testing\n",
        "ratings_from_user(276704)"
      ]
    },
    {
      "cell_type": "markdown",
      "metadata": {
        "id": "_9_pCkC-LPPF"
      },
      "source": [
        "**Now, let's use the above functions to get the distance between two users.**"
      ]
    },
    {
      "cell_type": "code",
      "execution_count": 26,
      "metadata": {
        "id": "Fb2hze-4Kxjz"
      },
      "outputs": [],
      "source": [
        "distance_test = ratings_from_user(276729).join(ratings_from_user(276729), rsuffix=\"_A\", lsuffix=\"_B\")"
      ]
    },
    {
      "cell_type": "code",
      "execution_count": 28,
      "metadata": {
        "colab": {
          "base_uri": "https://localhost:8080/"
        },
        "id": "TvxzciAsLvY5",
        "outputId": "b05d405f-0de0-484e-dc10-eb3e5972e58a"
      },
      "outputs": [
        {
          "data": {
            "text/plain": [
              "0.0"
            ]
          },
          "execution_count": 28,
          "metadata": {
            "tags": []
          },
          "output_type": "execute_result"
        }
      ],
      "source": [
        "array_distance(distance_test[\"bookRating_B\"], distance_test['bookRating_A'])"
      ]
    },
    {
      "cell_type": "markdown",
      "metadata": {
        "id": "RxkMgsUgMDfC"
      },
      "source": [
        "Although the result is misleading (both users actually have nothing in common, and this issue will be soon addressed), we can see that **the distance function actually works**."
      ]
    },
    {
      "cell_type": "markdown",
      "metadata": {
        "id": "7Y14gY8QMbME"
      },
      "source": [
        "\n",
        "Let's define a function that outputs the distance between two users."
      ]
    },
    {
      "cell_type": "code",
      "execution_count": 30,
      "metadata": {
        "id": "rUhKWR0cLw-8"
      },
      "outputs": [],
      "source": [
        "def distance_between_users(user1:int, user2:int): # parameters = int\n",
        "  ratings_from_user1 = ratings_from_user(user1)\n",
        "  ratings_from_user2 = ratings_from_user(user2)\n",
        "  # Above we create dataframes for each user\n",
        "\n",
        "  #Bellow we join both dataframes\n",
        "  both_ratings = ratings_from_user1.join(ratings_from_user2, lsuffix=\"_A\", rsuffix=\"_B\").dropna()\n",
        "\n",
        "  #Now we return the distance between the columns of each dataframe\n",
        "  distance = array_distance(both_ratings[\"bookRating_A\"], both_ratings[\"bookRating_B\"])\n",
        "\n",
        "  return [user1, user2, distance]"
      ]
    },
    {
      "cell_type": "code",
      "execution_count": 60,
      "metadata": {
        "colab": {
          "base_uri": "https://localhost:8080/"
        },
        "id": "oZ-HF1hDNb8O",
        "outputId": "da14e5dd-74ba-4122-a9f3-21f922e2241a"
      },
      "outputs": [
        {
          "data": {
            "text/plain": [
              "[276729, 276704, 0.0]"
            ]
          },
          "execution_count": 60,
          "metadata": {
            "tags": []
          },
          "output_type": "execute_result"
        }
      ],
      "source": [
        "#Test\n",
        "distance_between_users(276729, 276704)"
      ]
    },
    {
      "cell_type": "markdown",
      "metadata": {
        "id": "3LKdgQeKNn_N"
      },
      "source": [
        "It works! Same output as before."
      ]
    },
    {
      "cell_type": "markdown",
      "metadata": {
        "id": "vjMkzuQ8NxfP"
      },
      "source": [
        "---\n",
        "\n",
        "# Find most similar user\n",
        "\n",
        "It is very time consuming to keep analyzing pairs of random users. **It is more valuable for us to find the K most similar users**\n",
        "\n",
        "(Or our \"k-nearest-neighbors\" if you will)"
      ]
    },
    {
      "cell_type": "code",
      "execution_count": 80,
      "metadata": {
        "colab": {
          "base_uri": "https://localhost:8080/"
        },
        "id": "pURCowBfNley",
        "outputId": "fce02d82-1e71-4ec5-c28d-8500dba74980"
      },
      "outputs": [
        {
          "name": "stdout",
          "output_type": "stream",
          "text": [
            "We have 105283 users\n"
          ]
        }
      ],
      "source": [
        "print (\"We have %d users\" %len(ratings[\"userID\"].unique()))"
      ]
    },
    {
      "cell_type": "code",
      "execution_count": 172,
      "metadata": {
        "id": "yd6bPSqcOkQu"
      },
      "outputs": [],
      "source": [
        "def distance_from_all(targetID:int):\n",
        "  all_users = ratings[\"userID\"].unique()[:3000] #since we have 105k+ users, we need to select a smaller sample. 2k will do.\n",
        "\n",
        "  distances = [distance_between_users(targetID, users) for users in all_users]\n",
        "\n",
        "  distances = pd.DataFrame(distances, columns = [\"targetID\", \"otherUserID\", \"distance\"])\n",
        "\n",
        "  return distances.set_index(\"otherUserID\").sort_values(\"distance\").query(\"distance>0\")"
      ]
    },
    {
      "cell_type": "code",
      "execution_count": 116,
      "metadata": {
        "colab": {
          "base_uri": "https://localhost:8080/",
          "height": 221
        },
        "id": "UqSmoR74QOql",
        "outputId": "767ab8fe-bbd3-4a08-a2f1-9566c8f99ac0"
      },
      "outputs": [
        {
          "data": {
            "text/html": [
              "<div>\n",
              "<style scoped>\n",
              "    .dataframe tbody tr th:only-of-type {\n",
              "        vertical-align: middle;\n",
              "    }\n",
              "\n",
              "    .dataframe tbody tr th {\n",
              "        vertical-align: top;\n",
              "    }\n",
              "\n",
              "    .dataframe thead th {\n",
              "        text-align: right;\n",
              "    }\n",
              "</style>\n",
              "<table border=\"1\" class=\"dataframe\">\n",
              "  <thead>\n",
              "    <tr style=\"text-align: right;\">\n",
              "      <th></th>\n",
              "      <th>targetID</th>\n",
              "      <th>distance</th>\n",
              "    </tr>\n",
              "    <tr>\n",
              "      <th>otherUserID</th>\n",
              "      <th></th>\n",
              "      <th></th>\n",
              "    </tr>\n",
              "  </thead>\n",
              "  <tbody>\n",
              "    <tr>\n",
              "      <th>685</th>\n",
              "      <td>276704</td>\n",
              "      <td>3.0</td>\n",
              "    </tr>\n",
              "    <tr>\n",
              "      <th>277984</th>\n",
              "      <td>276704</td>\n",
              "      <td>4.0</td>\n",
              "    </tr>\n",
              "    <tr>\n",
              "      <th>3167</th>\n",
              "      <td>276704</td>\n",
              "      <td>6.0</td>\n",
              "    </tr>\n",
              "    <tr>\n",
              "      <th>278781</th>\n",
              "      <td>276704</td>\n",
              "      <td>7.0</td>\n",
              "    </tr>\n",
              "  </tbody>\n",
              "</table>\n",
              "</div>"
            ],
            "text/plain": [
              "             targetID  distance\n",
              "otherUserID                    \n",
              "685            276704       3.0\n",
              "277984         276704       4.0\n",
              "3167           276704       6.0\n",
              "278781         276704       7.0"
            ]
          },
          "execution_count": 116,
          "metadata": {
            "tags": []
          },
          "output_type": "execute_result"
        }
      ],
      "source": [
        "distance_from_all(276704)"
      ]
    },
    {
      "cell_type": "markdown",
      "metadata": {
        "id": "wbokKfdnpydC"
      },
      "source": [
        "---\n",
        "\n",
        "# Suggest books based on closest users\n",
        "\n",
        "This function bellow calls the distance_from_all functions and filters the best matches. Then, it joins the best matches' ratings and suggest books based on them."
      ]
    },
    {
      "cell_type": "code",
      "execution_count": 170,
      "metadata": {
        "id": "MJbnMWhip5b5"
      },
      "outputs": [],
      "source": [
        "def suggest_to(userID:int):\n",
        "  #user_ratings = ratings_from_user(userID)\n",
        "  #books_read_by_user = user_ratings.index\n",
        "\n",
        "  similar_users = distance_from_all(userID).head(3)\n",
        "  similar_users_list = similar_users.index\n",
        "  \n",
        "  ratings_from_similar_users = ratings[ratings[\"userID\"].isin(similar_users_list)]\n",
        "\n",
        "  suggestions = ratings_from_similar_users.groupby(\"ISBN\").mean()[[\"bookRating\"]]\n",
        "  suggestions = suggestions.sort_values(\"bookRating\", ascending=False)\n",
        "\n",
        "  \n",
        "\n",
        "  return suggestions.join(books[[\"bookTitle\", \"bookAuthor\", \"yearOfPublication\"]])"
      ]
    },
    {
      "cell_type": "code",
      "execution_count": 173,
      "metadata": {
        "colab": {
          "base_uri": "https://localhost:8080/",
          "height": 464
        },
        "id": "ozfDtOjksnmo",
        "outputId": "061bdbb8-5946-4729-98c9-6592c106a6ad"
      },
      "outputs": [
        {
          "data": {
            "text/html": [
              "<div>\n",
              "<style scoped>\n",
              "    .dataframe tbody tr th:only-of-type {\n",
              "        vertical-align: middle;\n",
              "    }\n",
              "\n",
              "    .dataframe tbody tr th {\n",
              "        vertical-align: top;\n",
              "    }\n",
              "\n",
              "    .dataframe thead th {\n",
              "        text-align: right;\n",
              "    }\n",
              "</style>\n",
              "<table border=\"1\" class=\"dataframe\">\n",
              "  <thead>\n",
              "    <tr style=\"text-align: right;\">\n",
              "      <th></th>\n",
              "      <th>bookRating</th>\n",
              "      <th>bookTitle</th>\n",
              "      <th>bookAuthor</th>\n",
              "      <th>yearOfPublication</th>\n",
              "    </tr>\n",
              "    <tr>\n",
              "      <th>ISBN</th>\n",
              "      <th></th>\n",
              "      <th></th>\n",
              "      <th></th>\n",
              "      <th></th>\n",
              "    </tr>\n",
              "  </thead>\n",
              "  <tbody>\n",
              "    <tr>\n",
              "      <th>780451524201</th>\n",
              "      <td>10</td>\n",
              "      <td>NaN</td>\n",
              "      <td>NaN</td>\n",
              "      <td>NaN</td>\n",
              "    </tr>\n",
              "    <tr>\n",
              "      <th>0553574353</th>\n",
              "      <td>10</td>\n",
              "      <td>Helter Skelter: The True Story of the Manson M...</td>\n",
              "      <td>Vincent Bugliosi</td>\n",
              "      <td>1996.0</td>\n",
              "    </tr>\n",
              "    <tr>\n",
              "      <th>0440998050</th>\n",
              "      <td>10</td>\n",
              "      <td>A Wrinkle in Time</td>\n",
              "      <td>Madeleine L'Engle</td>\n",
              "      <td>1976.0</td>\n",
              "    </tr>\n",
              "    <tr>\n",
              "      <th>0446611778</th>\n",
              "      <td>10</td>\n",
              "      <td>Last Man Standing</td>\n",
              "      <td>David Baldacci</td>\n",
              "      <td>2002.0</td>\n",
              "    </tr>\n",
              "    <tr>\n",
              "      <th>0515087491</th>\n",
              "      <td>10</td>\n",
              "      <td>The Corps: Semper Fi/Bk 1 (Corps (Paperback))</td>\n",
              "      <td>W. E. B. Griffin</td>\n",
              "      <td>1988.0</td>\n",
              "    </tr>\n",
              "    <tr>\n",
              "      <th>...</th>\n",
              "      <td>...</td>\n",
              "      <td>...</td>\n",
              "      <td>...</td>\n",
              "      <td>...</td>\n",
              "    </tr>\n",
              "    <tr>\n",
              "      <th>0553203630</th>\n",
              "      <td>0</td>\n",
              "      <td>Big Sky</td>\n",
              "      <td>Alfred Bertram Jr. Guthrie</td>\n",
              "      <td>1982.0</td>\n",
              "    </tr>\n",
              "    <tr>\n",
              "      <th>0345347951</th>\n",
              "      <td>0</td>\n",
              "      <td>Childhood's End</td>\n",
              "      <td>Arthur C. Clarke</td>\n",
              "      <td>1987.0</td>\n",
              "    </tr>\n",
              "    <tr>\n",
              "      <th>0345347536</th>\n",
              "      <td>0</td>\n",
              "      <td>A Spell for Chameleon (Xanth Novels (Paperback))</td>\n",
              "      <td>Piers Anthony</td>\n",
              "      <td>1987.0</td>\n",
              "    </tr>\n",
              "    <tr>\n",
              "      <th>0553239813</th>\n",
              "      <td>0</td>\n",
              "      <td>Little Drummer Girl</td>\n",
              "      <td>John Lecarre</td>\n",
              "      <td>1984.0</td>\n",
              "    </tr>\n",
              "    <tr>\n",
              "      <th>0553571656</th>\n",
              "      <td>0</td>\n",
              "      <td>The Beekeeper's Apprentice</td>\n",
              "      <td>LAURIE R. KING</td>\n",
              "      <td>1996.0</td>\n",
              "    </tr>\n",
              "  </tbody>\n",
              "</table>\n",
              "<p>99 rows × 4 columns</p>\n",
              "</div>"
            ],
            "text/plain": [
              "              bookRating  ... yearOfPublication\n",
              "ISBN                      ...                  \n",
              "780451524201          10  ...               NaN\n",
              "0553574353            10  ...            1996.0\n",
              "0440998050            10  ...            1976.0\n",
              "0446611778            10  ...            2002.0\n",
              "0515087491            10  ...            1988.0\n",
              "...                  ...  ...               ...\n",
              "0553203630             0  ...            1982.0\n",
              "0345347951             0  ...            1987.0\n",
              "0345347536             0  ...            1987.0\n",
              "0553239813             0  ...            1984.0\n",
              "0553571656             0  ...            1996.0\n",
              "\n",
              "[99 rows x 4 columns]"
            ]
          },
          "execution_count": 173,
          "metadata": {
            "tags": []
          },
          "output_type": "execute_result"
        }
      ],
      "source": [
        "suggest_to(276704)"
      ]
    }
  ],
  "metadata": {
    "colab": {
      "collapsed_sections": [],
      "name": "Book-Recommender.ipynb",
      "provenance": []
    },
    "kernelspec": {
      "display_name": "Python 3",
      "name": "python3"
    },
    "language_info": {
      "name": "python",
      "version": "3.11.7"
    }
  },
  "nbformat": 4,
  "nbformat_minor": 0
}
